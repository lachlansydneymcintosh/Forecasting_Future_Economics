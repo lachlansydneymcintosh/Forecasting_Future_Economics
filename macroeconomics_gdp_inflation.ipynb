{
 "cells": [
  {
   "cell_type": "markdown",
   "id": "64799712",
   "metadata": {},
   "source": [
    "# **Macroecnomics: GDP and Inflation** "
   ]
  },
  {
   "cell_type": "code",
   "execution_count": null,
   "id": "dcc65b43",
   "metadata": {},
   "outputs": [],
   "source": [
    "# Import Packages"
   ]
  },
  {
   "cell_type": "markdown",
   "id": "abb51104",
   "metadata": {},
   "source": [
    "### GDP and Inflation Growth"
   ]
  },
  {
   "cell_type": "code",
   "execution_count": null,
   "id": "cebfa838",
   "metadata": {},
   "outputs": [],
   "source": []
  }
 ],
 "metadata": {
  "kernelspec": {
   "display_name": "Python 3",
   "language": "python",
   "name": "python3"
  },
  "language_info": {
   "name": "python",
   "version": "3.11.4"
  }
 },
 "nbformat": 4,
 "nbformat_minor": 5
}
